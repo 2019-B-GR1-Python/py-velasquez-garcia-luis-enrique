{
 "cells": [
  {
   "cell_type": "code",
   "execution_count": 14,
   "metadata": {},
   "outputs": [
    {
     "name": "stdout",
     "output_type": "stream",
     "text": [
      "<class 'list'>\n",
      "['Buenos dias\\n', 'Buenas tardes\\n', 'Buenas noches\\n', 'Si la vida es justa por que las rosas tienen espinas :v \\n', 'Buenas carnes\\n', 'ABC\\n', 'DEF\\n']\n"
     ]
    }
   ],
   "source": [
    "#Archivos\n",
    "#definir el path para el archivo\n",
    "try:\n",
    "    path = \"./frases.txt\"\n",
    "    archivo_abierto = open(path)\n",
    "    \"\"\"\n",
    "    linea_uno = archivo_abierto.readline()\n",
    "    print(f\"L1: {linea_uno}\")\n",
    "    linea_dos = archivo_abierto.readline()\n",
    "    print(f\"L2: {linea_dos}\")\n",
    "    linea_tres = archivo_abierto.readline()\n",
    "    print(f\"L3: {linea_tres}\")\n",
    "    linea_cuatro = archivo_abierto.readline()\n",
    "    print(f\"L4: {linea_cuatro}\")\n",
    "    linea_cinco = archivo_abierto.readline()\n",
    "    print(f\"L5: {linea_cinco}\")\n",
    "    archivo_abierto.close()\n",
    "    \"\"\"\n",
    "    contenido = archivo_abierto.readlines() # es ua lista de strings!!!\n",
    "    print(type(contenido)) #lista de strings\n",
    "    print(contenido)\n",
    "    archivo_abierto.close()\n",
    "    \n",
    "    \n",
    "    \n",
    "except Exception as error:\n",
    "    print(\"Error\")\n",
    "\n",
    "\n",
    "\n",
    "\n",
    "\n"
   ]
  },
  {
   "cell_type": "code",
   "execution_count": 13,
   "metadata": {},
   "outputs": [],
   "source": [
    "#COMO ESRIBIR ARCHIVOS\n",
    "# dos formas de escribir: nuevas lineas o sobreescribir\n",
    "try:\n",
    "    path = './frases.txt'\n",
    "    archivo_escritura_abierto = open(path,mode=\"a\")\n",
    "    # a -> Append\n",
    "    # w -> Write (sobre escribir)\n",
    "    archivo_escritura_abierto.write(\"Buenas carnes\\n\")\n",
    "    archivo_escritura_abierto.writelines(\n",
    "    [\"ABC\\n\", \"DEF\\n\"]\n",
    "    )   \n",
    "    archivo_escritura_abierto.close()\n",
    "    \n",
    "except Exception as error:\n",
    "    print(\"Error\")"
   ]
  },
  {
   "cell_type": "code",
   "execution_count": null,
   "metadata": {},
   "outputs": [],
   "source": []
  }
 ],
 "metadata": {
  "kernelspec": {
   "display_name": "Python 3",
   "language": "python",
   "name": "python3"
  },
  "language_info": {
   "codemirror_mode": {
    "name": "ipython",
    "version": 3
   },
   "file_extension": ".py",
   "mimetype": "text/x-python",
   "name": "python",
   "nbconvert_exporter": "python",
   "pygments_lexer": "ipython3",
   "version": "3.7.0"
  }
 },
 "nbformat": 4,
 "nbformat_minor": 2
}

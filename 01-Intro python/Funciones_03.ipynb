{
 "cells": [
  {
   "cell_type": "code",
   "execution_count": 8,
   "metadata": {},
   "outputs": [
    {
     "name": "stdout",
     "output_type": "stream",
     "text": [
      "Hola Kike\n",
      "suma 4\n"
     ]
    }
   ],
   "source": [
    "# Funciones\n",
    "# Funciones se dividen en las que retornan algo y no retornan nada\n",
    "# las funciones no pueden ser camell case holaMundo..\n",
    "#La funciones q no devuelven nada son nonetype\n",
    "def hola_mundo():\n",
    "    print(\"Hola Kike\")\n",
    "hola_mundo()\n",
    "# print (type (hola_mundo()))\n",
    "\n",
    "\n",
    "    \n",
    "\n",
    "\n",
    "\n",
    "\n"
   ]
  },
  {
   "cell_type": "code",
   "execution_count": null,
   "metadata": {},
   "outputs": [],
   "source": [
    "# python lenguaje no tipado\n",
    "# los parametros se lleman ARGUMENTOS-> hay argumentos requeridos y opcionales\n",
    "def sumar_dos_numeros(numero_uno, num_dos): # ARGUMENTOS requeridos\n",
    "    return numero_uno + num_dos\n",
    "suma = sumar_dos_numeros(1, 3)\n",
    "print(f\"suma {suma}\") # templates string"
   ]
  },
  {
   "cell_type": "code",
   "execution_count": 11,
   "metadata": {},
   "outputs": [
    {
     "name": "stdout",
     "output_type": "stream",
     "text": [
      "EPN\n",
      "ESPE\n"
     ]
    }
   ],
   "source": [
    "def imprimir_universidad (nombre = 'EPN'): # argumento opcional\n",
    "    print(f\"{nombre}\")\n",
    "imprimir_universidad()\n",
    "imprimir_universidad(\"ESPE\")"
   ]
  },
  {
   "cell_type": "code",
   "execution_count": 22,
   "metadata": {},
   "outputs": [
    {
     "name": "stdout",
     "output_type": "stream",
     "text": [
      "Color: Blanco\n",
      "Placa: abc-123\n",
      "Caballos de fuerza: 2000\n",
      "Año: 1980\n",
      "Color: amazul\n",
      "Placa: def-123\n",
      "Caballos de fuerza: 3220\n",
      "Año: 2005\n",
      "Color: cafe\n",
      "Placa: abc-324\n",
      "Caballos de fuerza: 1990\n",
      "Año: 1960\n"
     ]
    }
   ],
   "source": [
    "def imprimir_carro(color, placa, hp, anio = 1960):\n",
    "    print(f\"Color: {color}\")\n",
    "    print(f\"Placa: {placa}\")\n",
    "    print(f\"Caballos de fuerza: {hp}\")\n",
    "    print(f\"Año: {anio}\")\n",
    "    \n",
    "imprimir_carro(\"Blanco\",\"abc-123\",2000,1980)\n",
    "imprimir_carro(anio=2005,\n",
    "              color = \"amazul\",\n",
    "              placa = \"def-123\",\n",
    "              hp = 3220)\n",
    "\n",
    "#Named Parameters -> anio=1990 v color=\"cafe\"\n",
    "#Posicitional Parameters -> \"cafe\",\"asb-123\",159,1990\n",
    "#REGLAS:\n",
    "# en funciones-> los paramateros requeridos van primero, luego los opcionales.\n",
    "#enviar siempre los parametros REQUERIDOS\n",
    "#una vez que en los argumentos se envia un parametro nombrado los demas tiene que ser nombrados\n",
    "#imprimir_carro(\"cafe\", placa=\"mns-543\", hp=1650) # siempre enviar todos los parametros requeridos\n",
    "imprimir_carro(\"cafe\", hp=1990, placa=\"abc-324\")\n",
    "\n",
    "\n"
   ]
  },
  {
   "cell_type": "code",
   "execution_count": 34,
   "metadata": {},
   "outputs": [
    {
     "data": {
      "text/plain": [
       "17"
      ]
     },
     "execution_count": 34,
     "metadata": {},
     "output_type": "execute_result"
    }
   ],
   "source": [
    "# suma de infinitos parametros\n",
    "# parametro infinito -> *numeros_infinitos == son tuplas\n",
    "# se recomiendo iniciarlos al final a los parametros infinitos\n",
    "\n",
    "def sumar_numeros(primer_numero, \n",
    "                *numeros): # parametro infinito\n",
    "    longitud = len(numeros)\n",
    "    if (longitud == 0):\n",
    "        return primer_numero\n",
    "    else:\n",
    "        suma = primer_numero \n",
    "        for numero in numeros:\n",
    "            suma = suma + numero\n",
    "        return suma\n",
    "    \n",
    "    # print(type(primer_numero))\n",
    "    \n",
    "    # print(type(numeros))\n",
    "    \n",
    "sumar_numeros(1,9,7)\n",
    "    \n",
    "\n",
    "\n"
   ]
  },
  {
   "cell_type": "code",
   "execution_count": 43,
   "metadata": {},
   "outputs": [
    {
     "name": "stdout",
     "output_type": "stream",
     "text": [
      "<class 'dict'>\n",
      "{'tiempo_espera': 10, 'conexiones': 88, 'tiempo_ejecucion': 60, 'horas_extras': 50}\n"
     ]
    }
   ],
   "source": [
    "# Parametros raritos\n",
    "# key word argumentes -> paramatros nombrados que no estan definidos en la funcion\n",
    "# key word arguments -> diccionario\n",
    "def imprimir_configuration(nombre,\n",
    "                          valor=10,\n",
    "                          **key_word_arguments): #kwargs\n",
    "    print(type(key_word_arguments))\n",
    "    print(key_word_arguments)\n",
    "imprimir_configuration(nombre=\"config_1\",\n",
    "                       valor=20,\n",
    "                       tiempo_espera =10,\n",
    "                       conexiones=88,\n",
    "                       tiempo_ejecucion =60,\n",
    "                       horas_extras =50)\n"
   ]
  },
  {
   "cell_type": "code",
   "execution_count": null,
   "metadata": {},
   "outputs": [],
   "source": []
  }
 ],
 "metadata": {
  "kernelspec": {
   "display_name": "Python 3",
   "language": "python",
   "name": "python3"
  },
  "language_info": {
   "codemirror_mode": {
    "name": "ipython",
    "version": 3
   },
   "file_extension": ".py",
   "mimetype": "text/x-python",
   "name": "python",
   "nbconvert_exporter": "python",
   "pygments_lexer": "ipython3",
   "version": "3.7.0"
  }
 },
 "nbformat": 4,
 "nbformat_minor": 2
}

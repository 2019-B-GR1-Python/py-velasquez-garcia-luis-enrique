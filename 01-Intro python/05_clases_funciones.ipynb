{
 "cells": [
  {
   "cell_type": "code",
   "execution_count": 2,
   "metadata": {},
   "outputs": [
    {
     "data": {
      "text/plain": [
       "4"
      ]
     },
     "execution_count": 2,
     "metadata": {},
     "output_type": "execute_result"
    }
   ],
   "source": [
    "#funciones normal\n",
    "def elevar_al_cuadrado(numero):\n",
    "    return numero * numero\n",
    "\n",
    "elevar_al_cuadrado(2)\n"
   ]
  },
  {
   "cell_type": "code",
   "execution_count": 6,
   "metadata": {},
   "outputs": [
    {
     "data": {
      "text/plain": [
       "4"
      ]
     },
     "execution_count": 6,
     "metadata": {},
     "output_type": "execute_result"
    }
   ],
   "source": [
    "#funciones lambda\n",
    "elevar_al_cuadrado_lambda = lambda x: x*x # lambda es una palabra reservada. funciones simples\n",
    "\n",
    "elevar_al_cuadrado_lambda(2)\n"
   ]
  },
  {
   "cell_type": "code",
   "execution_count": 9,
   "metadata": {},
   "outputs": [
    {
     "name": "stdout",
     "output_type": "stream",
     "text": [
      "Mensaje: hola\n"
     ]
    }
   ],
   "source": [
    "imprimir_lambda = lambda mensaje: print(f\"Mensaje: {mensaje}\")\n",
    "\n",
    "imprimir_lambda(\"hola\")\n"
   ]
  },
  {
   "cell_type": "code",
   "execution_count": 10,
   "metadata": {},
   "outputs": [
    {
     "data": {
      "text/plain": [
       "4"
      ]
     },
     "execution_count": 10,
     "metadata": {},
     "output_type": "execute_result"
    }
   ],
   "source": [
    "sumar_dos_numeros = lambda x,a : x+a\n",
    "sumar_dos_numeros(1,3)"
   ]
  },
  {
   "cell_type": "code",
   "execution_count": 14,
   "metadata": {},
   "outputs": [
    {
     "name": "stdout",
     "output_type": "stream",
     "text": [
      "<__main__.Nada object at 0x000002732ECCFB70>\n",
      "<class '__main__.Nada'>\n"
     ]
    }
   ],
   "source": [
    "# Clases\n",
    "class Nada:\n",
    "    pass # pass para que la calse no tenga nada\n",
    "\n",
    "una_nada = Nada()\n",
    "print(una_nada)\n",
    "print(type(una_nada))\n"
   ]
  },
  {
   "cell_type": "code",
   "execution_count": 32,
   "metadata": {},
   "outputs": [
    {
     "name": "stdout",
     "output_type": "stream",
     "text": [
      "Empezo el constructor\n",
      "None\n",
      "amazul\n",
      "1\n",
      "Color:amazul\n",
      "Chasis:1\n"
     ]
    }
   ],
   "source": [
    "class Auto:\n",
    "    color =None # siempre inicializar los atributos\n",
    "    __numero_chasis = 1  # atributo privada\n",
    "    \n",
    "     \n",
    "    def __init__(self, color):  # contructor, self = this\n",
    "        print(\"Empezo el constructor\")\n",
    "        print(self.color) # self es el this de java en python :p\n",
    "        self.color = color\n",
    "        \n",
    "    #Como hacer overrride\n",
    "    def __str__(self):\n",
    "        return(f\"Color:{self.color}\\n\"+ f\"Chasis:{self.__numero_chasis}\")\n",
    "        \n",
    "    def numero_de_chasis_impuesto(self): # funciones publica\n",
    "        return self.__numero_chasis_impuesto()\n",
    "    \n",
    "    def __calcular_impuesto(self): # funcion privada\n",
    "        return 14 * self.__numero_chasis\n",
    "    \n",
    "    \n",
    "    \n",
    "    \n",
    "nuevo_auto = Auto(\"amazul\") # no olvidar que \"color\" es un parametro requerido, siempre colocar el parametro \n",
    "print(nuevo_auto.color)\n",
    "print(nuevo_auto._Auto__numero_chasis) # asi se puede acceder al atributo privado, objeto._nombreClase__atributoPrivado\n",
    "print(nuevo_auto)  \n",
    "# numero_de_chasis_impuesto(12)"
   ]
  },
  {
   "cell_type": "code",
   "execution_count": 55,
   "metadata": {},
   "outputs": [],
   "source": [
    "# Herencia\n",
    "class BMW(Auto):\n",
    "    def __init__(self, color =\"blanco\"): # pedir lo minimo que necesita nuestro papá\n",
    "        print(\"Inicializando BMW\")\n",
    "        super().__init__(color)\n",
    "        \n"
   ]
  },
  {
   "cell_type": "code",
   "execution_count": 56,
   "metadata": {},
   "outputs": [
    {
     "name": "stdout",
     "output_type": "stream",
     "text": [
      "Inicializando BMW\n",
      "Empezo el constructor\n",
      "None\n",
      "Color:blanco\n",
      "Chasis:1\n"
     ]
    }
   ],
   "source": [
    "carrito = BMW()\n",
    "print(carrito)"
   ]
  },
  {
   "cell_type": "code",
   "execution_count": 63,
   "metadata": {},
   "outputs": [
    {
     "data": {
      "text/plain": [
       "12"
      ]
     },
     "execution_count": 63,
     "metadata": {},
     "output_type": "execute_result"
    }
   ],
   "source": [
    "# Funciones dentro de Funciones\n",
    "def calculadora (num_uno, num_dos, operacion =\"suma\"):\n",
    "    def suma():\n",
    "        return num_uno + num_dos\n",
    "    def resta():\n",
    "        return num_uno - num_dos\n",
    "    def multiplicacion():\n",
    "        return num_uno*num_dos\n",
    "    def division():\n",
    "        return num_uno/num_dos\n",
    "    \n",
    "    def opcion_seleccionada():\n",
    "       \n",
    "        \"\"\"\n",
    "        ESTO ES UN SWITCH\n",
    "        return {\n",
    "            'suma':suma(),\n",
    "            'resta':resta(),\n",
    "            'multiplicacion':multiplicacion(),\n",
    "            'division': division(),\n",
    "        }[operacion]\n",
    "        \"\"\"\n",
    "        # mejor practica para el switch\n",
    "        opciones = {\n",
    "            'suma':suma(),\n",
    "            'resta':resta(),\n",
    "            'multiplicacion':multiplicacion(),\n",
    "            'division': division(),\n",
    "            \n",
    "        }\n",
    "        return opciones[operacion]\n",
    "        \n",
    "        \n",
    "        \n",
    "    \"\"\"\"\n",
    "    def opcion_seleccionada():\n",
    "        if(operacion == \"suma\"):\n",
    "            return suma()\n",
    "        else:\n",
    "            return resta()\n",
    "    \"\"\"\n",
    "            \n",
    "    return opcion_seleccionada()\n",
    "\n",
    "calculadora(10,2)\n",
    "\n",
    "\n",
    "\n"
   ]
  },
  {
   "cell_type": "code",
   "execution_count": 64,
   "metadata": {},
   "outputs": [
    {
     "name": "stdout",
     "output_type": "stream",
     "text": [
      "Dime tu edad3\n"
     ]
    },
    {
     "data": {
      "text/plain": [
       "'3'"
      ]
     },
     "execution_count": 64,
     "metadata": {},
     "output_type": "execute_result"
    }
   ],
   "source": [
    "input(\"Dime tu edad\")"
   ]
  },
  {
   "cell_type": "code",
   "execution_count": null,
   "metadata": {},
   "outputs": [],
   "source": []
  },
  {
   "cell_type": "code",
   "execution_count": null,
   "metadata": {},
   "outputs": [],
   "source": []
  },
  {
   "cell_type": "code",
   "execution_count": null,
   "metadata": {},
   "outputs": [],
   "source": []
  }
 ],
 "metadata": {
  "kernelspec": {
   "display_name": "Python 3",
   "language": "python",
   "name": "python3"
  },
  "language_info": {
   "codemirror_mode": {
    "name": "ipython",
    "version": 3
   },
   "file_extension": ".py",
   "mimetype": "text/x-python",
   "name": "python",
   "nbconvert_exporter": "python",
   "pygments_lexer": "ipython3",
   "version": "3.7.0"
  }
 },
 "nbformat": 4,
 "nbformat_minor": 2
}

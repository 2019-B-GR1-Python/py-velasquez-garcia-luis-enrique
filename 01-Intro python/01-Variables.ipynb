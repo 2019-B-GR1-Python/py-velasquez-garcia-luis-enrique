{
 "cells": [
  {
   "cell_type": "code",
   "execution_count": 1,
   "metadata": {},
   "outputs": [
    {
     "name": "stdout",
     "output_type": "stream",
     "text": [
      "Hola mundo\n"
     ]
    }
   ],
   "source": [
    "print(\"Hola mundo\")\n"
   ]
  },
  {
   "cell_type": "code",
   "execution_count": 3,
   "metadata": {},
   "outputs": [
    {
     "name": "stdout",
     "output_type": "stream",
     "text": [
      "<class 'int'>\n",
      "<class 'float'>\n",
      "<class 'str'>\n",
      "<class 'str'>\n",
      "<class 'bool'>\n",
      "<class 'bool'>\n",
      "<class 'NoneType'>\n"
     ]
    }
   ],
   "source": [
    "##Variables Primitivas\n",
    "entero = 3  # dar dos espacion para escribir un comentario en la misma linea \n",
    "decimal = 1.1  # un espacion de separacion cuando inicializas una varialbe -> X = 1\n",
    "nombre = \"Luis\" \n",
    "segundo_nombre = 'Enrique'\n",
    "casado = False\n",
    "estudiante = True\n",
    "hijos = None # ojo!!!\n",
    "print(type(entero))\n",
    "print(type(decimal))\n",
    "print(type(nombre))\n",
    "print(type(segundo_nombre))\n",
    "print(type (casado))\n",
    "print(type(estudiante))\n",
    "print(type(hijos))\n",
    "\"\"\"\n",
    "hola papu soy un comentario\n",
    "\"\"\""
   ]
  },
  {
   "cell_type": "code",
   "execution_count": 8,
   "metadata": {},
   "outputs": [
    {
     "name": "stdout",
     "output_type": "stream",
     "text": [
      "Luis\n",
      "Luis\n"
     ]
    }
   ],
   "source": [
    "print(entero)\n",
    "entero = decimal\n",
    "entero = hijos\n",
    "entero = nombre\n",
    "print(entero)"
   ]
  },
  {
   "cell_type": "code",
   "execution_count": 24,
   "metadata": {},
   "outputs": [
    {
     "name": "stdout",
     "output_type": "stream",
     "text": [
      "<class 'tuple'>\n",
      "<class 'list'>\n",
      "<class 'dict'>\n",
      "Falsy\n",
      "Truty\n",
      "Falsy\n",
      "Truty\n",
      "Truty\n",
      "Falsy\n",
      "Truty\n",
      "Falsy\n",
      "Falsy\n",
      "Truty\n",
      "Falsy\n",
      "Truty\n",
      "Falsy\n",
      "Truty\n"
     ]
    }
   ],
   "source": [
    "# Condicion (Boolean)\n",
    "#Truty\n",
    "#Falsy\n",
    "tuplas = ()\n",
    "listas = []\n",
    "diccionario = {}\n",
    "print(type(tuplas))\n",
    "print(type(listas))\n",
    "print(type(diccionario))\n",
    "\n",
    "if(\"\"): # Falsy\n",
    "    print(\"Truty\")\n",
    "else:\n",
    "    print(\"Falsy\")\n",
    "    \n",
    "if(\"algo\"): # Truty\n",
    "    print(\"Truty\")\n",
    "else:\n",
    "    print(\"Falsy\")\n",
    "    \n",
    "if(0): # Falsy\n",
    "    print(\"Truty\")\n",
    "else:\n",
    "    print(\"Falsy\")\n",
    "\n",
    "if(-1): # Truty\n",
    "    print(\"Truty\")\n",
    "else:\n",
    "    print(\"Falsy\")\n",
    "    \n",
    "if(1): # Truty\n",
    "    print(\"Truty\")\n",
    "else:\n",
    "    print(\"Falsy\")\n",
    "    \n",
    "if(0.00): # Falsy\n",
    "    print(\"Truty\")\n",
    "else:\n",
    "    print(\"Falsy\")\n",
    "    \n",
    "if(0.000001): # Truty\n",
    "    print(\"Truty\")\n",
    "else:\n",
    "    print(\"Falsy\")\n",
    "    \n",
    "if(None): # Falsy\n",
    "    print(\"Truty\")\n",
    "else:\n",
    "    print(\"Falsy\")\n",
    "    \n",
    "if(()): # Falsy\n",
    "    print(\"Truty\")\n",
    "else:\n",
    "    print(\"Falsy\")\n",
    "    \n",
    "if((1,2)): # Truty\n",
    "    print(\"Truty\")\n",
    "else:\n",
    "    print(\"Falsy\")\n",
    "\n",
    "if([]): # Falsy\n",
    "    print(\"Truty\")\n",
    "else:\n",
    "    print(\"Falsy\")\n",
    "\n",
    "if([\"1\",\"2\",\"3\"]): # Truty\n",
    "    print(\"Truty\")\n",
    "else:\n",
    "    print(\"Falsy\")\n",
    "\n",
    "if({}): # Falsy\n",
    "    print(\"Truty\")\n",
    "else:\n",
    "    print(\"Falsy\")\n",
    "    \n",
    "if({nombre:\"Luis\"}): # Truty\n",
    "    print(\"Truty\")\n",
    "else:\n",
    "    print(\"Falsy\")\n"
   ]
  },
  {
   "cell_type": "code",
   "execution_count": 41,
   "metadata": {},
   "outputs": [
    {
     "data": {
      "text/plain": [
       "[1, 2, 3, 4, 5, 6, 7, 8, 9, 10]"
      ]
     },
     "execution_count": 41,
     "metadata": {},
     "output_type": "execute_result"
    }
   ],
   "source": [
    "arreglo = [1, 2, 3, 4, 5, 6, 7, 8, 9, 10]\n",
    "arreglo[2]\n",
    "arreglo[2:5]  #Filtra ([2,5[)\n",
    "arreglo[2:]\n",
    "arreglo[:7]\n",
    "arreglo[:-1]\n",
    "arreglo[-8:-1]\n",
    "arreglo[-9:]\n",
    "arreglo[:-2]\n",
    "arreglo[:]\n",
    "\n"
   ]
  },
  {
   "cell_type": "code",
   "execution_count": 45,
   "metadata": {},
   "outputs": [
    {
     "name": "stdout",
     "output_type": "stream",
     "text": [
      "<class 'bool'>\n",
      "False\n"
     ]
    }
   ],
   "source": [
    "# Operador que encuentra al menos uno \n",
    "print(type(7 in arreglo))\n",
    "print(7 in arreglo)\n"
   ]
  },
  {
   "cell_type": "code",
   "execution_count": 46,
   "metadata": {},
   "outputs": [
    {
     "data": {
      "text/plain": [
       "10"
      ]
     },
     "execution_count": 46,
     "metadata": {},
     "output_type": "execute_result"
    }
   ],
   "source": [
    "len(arreglo)  # 10 elementos"
   ]
  },
  {
   "cell_type": "code",
   "execution_count": 52,
   "metadata": {},
   "outputs": [
    {
     "data": {
      "text/plain": [
       "[1, 1.1, 1.1, 2, 3, 4, 5, 6, 7, 8, 9, 10, 11, 11]"
      ]
     },
     "execution_count": 52,
     "metadata": {},
     "output_type": "execute_result"
    }
   ],
   "source": [
    "#añadir algo al arreglo\n",
    "#arreglo.append(11)\n",
    "#arreglo.pop()\n",
    "arreglo.insert(1, 1.1)  # insert(posicion,valor)\n",
    "arreglo\n"
   ]
  },
  {
   "cell_type": "code",
   "execution_count": 3,
   "metadata": {},
   "outputs": [
    {
     "name": "stdout",
     "output_type": "stream",
     "text": [
      "0\n",
      "1\n",
      "2\n",
      "3\n",
      "4\n",
      "5\n",
      "6\n",
      "7\n",
      "8\n",
      "9\n"
     ]
    }
   ],
   "source": [
    "#for numero in arreglo:\n",
    "     #print(numero)\n",
    "    \n",
    "contador = 0\n",
    "while contador < 10:\n",
    "    print(contador)\n",
    "    contador+= 1"
   ]
  },
  {
   "cell_type": "code",
   "execution_count": 4,
   "metadata": {},
   "outputs": [
    {
     "data": {
      "text/plain": [
       "(1, 2, 3, 4, 5)"
      ]
     },
     "execution_count": 4,
     "metadata": {},
     "output_type": "execute_result"
    }
   ],
   "source": [
    "tupla_numeros = (1, 2, 3, 4, 5)\n",
    "tupla_numeros"
   ]
  },
  {
   "cell_type": "code",
   "execution_count": 8,
   "metadata": {},
   "outputs": [
    {
     "data": {
      "text/plain": [
       "True"
      ]
     },
     "execution_count": 8,
     "metadata": {},
     "output_type": "execute_result"
    }
   ],
   "source": [
    "tupla_numeros[2]  # se puede filtrar, pero no cambiar elementos de las tuplas\n",
    "tupla_numeros[0:3]  # las tuplas con constantes, las listas pueden cambiar\n",
    "len(tupla_numeros)\n",
    "3 in tupla_numeros"
   ]
  },
  {
   "cell_type": "code",
   "execution_count": 19,
   "metadata": {},
   "outputs": [],
   "source": [
    "#  diccionarios\n",
    "luis = {\n",
    "    1231: \"Luis\",\n",
    "    'apellido':'',\n",
    "    'edad':30,\n",
    "    False:0.1,\n",
    "    \"hijos\":None,\n",
    "    \"casado\": False\n",
    "    'mascotas':[{'hola','chao'}]\n",
    "}\n"
   ]
  },
  {
   "cell_type": "code",
   "execution_count": 26,
   "metadata": {},
   "outputs": [
    {
     "data": {
      "text/plain": [
       "False"
      ]
     },
     "execution_count": 26,
     "metadata": {},
     "output_type": "execute_result"
    }
   ],
   "source": [
    "luis[\"apellido\"] = \"Velasquez\"\n",
    "luis[\"apellido\"]\n",
    "#luis[\"mascotas\"][0][\"hola\"]\n",
    "luis.keys()\n",
    "luis.values()\n",
    "\"apellido\" in luis.keys()\n",
    "\"apellido\" in luis.values()"
   ]
  },
  {
   "cell_type": "code",
   "execution_count": 28,
   "metadata": {},
   "outputs": [
    {
     "data": {
      "text/plain": [
       "False"
      ]
     },
     "execution_count": 28,
     "metadata": {},
     "output_type": "execute_result"
    }
   ],
   "source": [
    "1 == 1 or 2 == 3\n",
    "1 == 1 and 2 == 3"
   ]
  },
  {
   "cell_type": "code",
   "execution_count": null,
   "metadata": {},
   "outputs": [],
   "source": []
  }
 ],
 "metadata": {
  "kernelspec": {
   "display_name": "Python 3",
   "language": "python",
   "name": "python3"
  },
  "language_info": {
   "codemirror_mode": {
    "name": "ipython",
    "version": 3
   },
   "file_extension": ".py",
   "mimetype": "text/x-python",
   "name": "python",
   "nbconvert_exporter": "python",
   "pygments_lexer": "ipython3",
   "version": "3.7.0"
  }
 },
 "nbformat": 4,
 "nbformat_minor": 2
}

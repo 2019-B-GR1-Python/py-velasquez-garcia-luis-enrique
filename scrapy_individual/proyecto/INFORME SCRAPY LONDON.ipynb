{
 "cells": [
  {
   "cell_type": "markdown",
   "metadata": {},
   "source": [
    "# Escuela Politécnica Nacional\n",
    "## Facultad de Ingeniería de Sistemas\n",
    "### Python\n",
    "#### Nombre: Luis Velásquez \n",
    "#### Grupo: GR1\n",
    "#### Fecha: 18/02/2019\n"
   ]
  },
  {
   "cell_type": "markdown",
   "metadata": {},
   "source": [
    "# Tema: Bolsa de Valores de Londres\n",
    "### El objetivo principal de este analisis es el encontrar o distinguir cual es el desempeño de las diferentes empresas que existen en Londres, verificar cuales y cuanto es el ingreso que tienen las empresas en la bolsa de valores de Londres."
   ]
  },
  {
   "cell_type": "code",
   "execution_count": 1,
   "metadata": {},
   "outputs": [],
   "source": [
    "import pandas as pd\n",
    "import numpy as np\n",
    "import math\n",
    "import matplotlib\n",
    "import matplotlib.pyplot as plt"
   ]
  },
  {
   "cell_type": "code",
   "execution_count": 2,
   "metadata": {},
   "outputs": [],
   "source": [
    "path = 'londonStockExchange.xlsx'"
   ]
  },
  {
   "cell_type": "code",
   "execution_count": 3,
   "metadata": {},
   "outputs": [
    {
     "data": {
      "text/html": [
       "<div>\n",
       "<style scoped>\n",
       "    .dataframe tbody tr th:only-of-type {\n",
       "        vertical-align: middle;\n",
       "    }\n",
       "\n",
       "    .dataframe tbody tr th {\n",
       "        vertical-align: top;\n",
       "    }\n",
       "\n",
       "    .dataframe thead th {\n",
       "        text-align: right;\n",
       "    }\n",
       "</style>\n",
       "<table border=\"1\" class=\"dataframe\">\n",
       "  <thead>\n",
       "    <tr style=\"text-align: right;\">\n",
       "      <th></th>\n",
       "      <th>nombre</th>\n",
       "      <th>moneda</th>\n",
       "      <th>precio</th>\n",
       "      <th>cantidad</th>\n",
       "      <th>porcentaje</th>\n",
       "    </tr>\n",
       "  </thead>\n",
       "  <tbody>\n",
       "    <tr>\n",
       "      <th>0</th>\n",
       "      <td>1PM</td>\n",
       "      <td>GBX</td>\n",
       "      <td>27.25</td>\n",
       "      <td>0.25</td>\n",
       "      <td>0.91</td>\n",
       "    </tr>\n",
       "    <tr>\n",
       "      <th>1</th>\n",
       "      <td>1SPATIAL</td>\n",
       "      <td>GBX</td>\n",
       "      <td>30.00</td>\n",
       "      <td>0.47</td>\n",
       "      <td>0.00</td>\n",
       "    </tr>\n",
       "    <tr>\n",
       "      <th>2</th>\n",
       "      <td>3I GRP.</td>\n",
       "      <td>GBX</td>\n",
       "      <td>1.00</td>\n",
       "      <td>163.00</td>\n",
       "      <td>0.00</td>\n",
       "    </tr>\n",
       "    <tr>\n",
       "      <th>3</th>\n",
       "      <td>4D PHARMA PLC</td>\n",
       "      <td>GBX</td>\n",
       "      <td>61.25</td>\n",
       "      <td>-5.50</td>\n",
       "      <td>-11.55</td>\n",
       "    </tr>\n",
       "    <tr>\n",
       "      <th>4</th>\n",
       "      <td>4IMPRINT GRP.</td>\n",
       "      <td>GBX</td>\n",
       "      <td>3.00</td>\n",
       "      <td>350.00</td>\n",
       "      <td>0.30</td>\n",
       "    </tr>\n",
       "    <tr>\n",
       "      <th>5</th>\n",
       "      <td>600 GRP.</td>\n",
       "      <td>GBX</td>\n",
       "      <td>14.10</td>\n",
       "      <td>-8.00</td>\n",
       "      <td>0.00</td>\n",
       "    </tr>\n",
       "    <tr>\n",
       "      <th>6</th>\n",
       "      <td>7DIGITAL</td>\n",
       "      <td>GBX</td>\n",
       "      <td>0.41</td>\n",
       "      <td>0.00</td>\n",
       "      <td>0.00</td>\n",
       "    </tr>\n",
       "    <tr>\n",
       "      <th>7</th>\n",
       "      <td>88 ENERGY</td>\n",
       "      <td>GBX</td>\n",
       "      <td>1.40</td>\n",
       "      <td>-10.00</td>\n",
       "      <td>5.66</td>\n",
       "    </tr>\n",
       "    <tr>\n",
       "      <th>8</th>\n",
       "      <td>888 HLDGS</td>\n",
       "      <td>GBX</td>\n",
       "      <td>131.00</td>\n",
       "      <td>0.69</td>\n",
       "      <td>-1.65</td>\n",
       "    </tr>\n",
       "    <tr>\n",
       "      <th>9</th>\n",
       "      <td>A.B.ENGINEERING</td>\n",
       "      <td>GBX</td>\n",
       "      <td>15.00</td>\n",
       "      <td>0.00</td>\n",
       "      <td>0.00</td>\n",
       "    </tr>\n",
       "    <tr>\n",
       "      <th>10</th>\n",
       "      <td>A.B.FOOD</td>\n",
       "      <td>GBX</td>\n",
       "      <td>2.00</td>\n",
       "      <td>611.00</td>\n",
       "      <td>0.00</td>\n",
       "    </tr>\n",
       "    <tr>\n",
       "      <th>11</th>\n",
       "      <td>AA PLC</td>\n",
       "      <td>GBX</td>\n",
       "      <td>43.28</td>\n",
       "      <td>0.07</td>\n",
       "      <td>-1.59</td>\n",
       "    </tr>\n",
       "    <tr>\n",
       "      <th>12</th>\n",
       "      <td>AB DYNAMICS</td>\n",
       "      <td>GBX</td>\n",
       "      <td>1.00</td>\n",
       "      <td>845.00</td>\n",
       "      <td>-2.32</td>\n",
       "    </tr>\n",
       "    <tr>\n",
       "      <th>13</th>\n",
       "      <td>AB NEW INDIA</td>\n",
       "      <td>GBX</td>\n",
       "      <td>483.00</td>\n",
       "      <td>-2.20</td>\n",
       "      <td>0.62</td>\n",
       "    </tr>\n",
       "    <tr>\n",
       "      <th>14</th>\n",
       "      <td>ABCAM</td>\n",
       "      <td>GBX</td>\n",
       "      <td>1.00</td>\n",
       "      <td>300.00</td>\n",
       "      <td>0.84</td>\n",
       "    </tr>\n",
       "    <tr>\n",
       "      <th>15</th>\n",
       "      <td>ABDN.ASN INC</td>\n",
       "      <td>GBX</td>\n",
       "      <td>209.00</td>\n",
       "      <td>0.00</td>\n",
       "      <td>0.95</td>\n",
       "    </tr>\n",
       "    <tr>\n",
       "      <th>16</th>\n",
       "      <td>ABDN.NEW THAI</td>\n",
       "      <td>GBX</td>\n",
       "      <td>507.50</td>\n",
       "      <td>-62.00</td>\n",
       "      <td>0.49</td>\n",
       "    </tr>\n",
       "    <tr>\n",
       "      <th>17</th>\n",
       "      <td>ABDN.NW.DWN</td>\n",
       "      <td>GBX</td>\n",
       "      <td>257.00</td>\n",
       "      <td>0.01</td>\n",
       "      <td>-1.15</td>\n",
       "    </tr>\n",
       "    <tr>\n",
       "      <th>18</th>\n",
       "      <td>ABERDEEN DI&amp;G</td>\n",
       "      <td>GBX</td>\n",
       "      <td>110.50</td>\n",
       "      <td>0.70</td>\n",
       "      <td>0.45</td>\n",
       "    </tr>\n",
       "    <tr>\n",
       "      <th>19</th>\n",
       "      <td>ABERDEEN JAPAN</td>\n",
       "      <td>GBX</td>\n",
       "      <td>615.00</td>\n",
       "      <td>0.01</td>\n",
       "      <td>0.81</td>\n",
       "    </tr>\n",
       "    <tr>\n",
       "      <th>20</th>\n",
       "      <td>ARRICANO REAL</td>\n",
       "      <td>USD</td>\n",
       "      <td>0.45</td>\n",
       "      <td>0.00</td>\n",
       "      <td>0.00</td>\n",
       "    </tr>\n",
       "    <tr>\n",
       "      <th>21</th>\n",
       "      <td>ARROW GLOBAL</td>\n",
       "      <td>GBX</td>\n",
       "      <td>299.00</td>\n",
       "      <td>5.00</td>\n",
       "      <td>1.70</td>\n",
       "    </tr>\n",
       "    <tr>\n",
       "      <th>22</th>\n",
       "      <td>ARTEMIS ALPHA</td>\n",
       "      <td>GBX</td>\n",
       "      <td>333.00</td>\n",
       "      <td>0.01</td>\n",
       "      <td>-2.35</td>\n",
       "    </tr>\n",
       "    <tr>\n",
       "      <th>23</th>\n",
       "      <td>ARTEMIS VCT</td>\n",
       "      <td>GBX</td>\n",
       "      <td>35.60</td>\n",
       "      <td>-8.00</td>\n",
       "      <td>0.00</td>\n",
       "    </tr>\n",
       "    <tr>\n",
       "      <th>24</th>\n",
       "      <td>ASA INT</td>\n",
       "      <td>GBX</td>\n",
       "      <td>265.50</td>\n",
       "      <td>0.69</td>\n",
       "      <td>0.19</td>\n",
       "    </tr>\n",
       "    <tr>\n",
       "      <th>25</th>\n",
       "      <td>ASCENT RES.</td>\n",
       "      <td>GBX</td>\n",
       "      <td>0.06</td>\n",
       "      <td>0.00</td>\n",
       "      <td>0.00</td>\n",
       "    </tr>\n",
       "    <tr>\n",
       "      <th>26</th>\n",
       "      <td>ASCENTIAL</td>\n",
       "      <td>GBX</td>\n",
       "      <td>361.40</td>\n",
       "      <td>0.50</td>\n",
       "      <td>-1.42</td>\n",
       "    </tr>\n",
       "    <tr>\n",
       "      <th>27</th>\n",
       "      <td>ASHLEY HOUSE</td>\n",
       "      <td>GBX</td>\n",
       "      <td>2.30</td>\n",
       "      <td>-62.01</td>\n",
       "      <td>0.00</td>\n",
       "    </tr>\n",
       "    <tr>\n",
       "      <th>28</th>\n",
       "      <td>ASHLEY(LAURA)</td>\n",
       "      <td>GBX</td>\n",
       "      <td>1.65</td>\n",
       "      <td>0.00</td>\n",
       "      <td>-18.62</td>\n",
       "    </tr>\n",
       "    <tr>\n",
       "      <th>29</th>\n",
       "      <td>ASHMORE</td>\n",
       "      <td>GBX</td>\n",
       "      <td>562.00</td>\n",
       "      <td>-5.20</td>\n",
       "      <td>-1.40</td>\n",
       "    </tr>\n",
       "    <tr>\n",
       "      <th>...</th>\n",
       "      <td>...</td>\n",
       "      <td>...</td>\n",
       "      <td>...</td>\n",
       "      <td>...</td>\n",
       "      <td>...</td>\n",
       "    </tr>\n",
       "    <tr>\n",
       "      <th>349</th>\n",
       "      <td>CIRCASSIA</td>\n",
       "      <td>GBX</td>\n",
       "      <td>27.80</td>\n",
       "      <td>4.51</td>\n",
       "      <td>4.51</td>\n",
       "    </tr>\n",
       "    <tr>\n",
       "      <th>350</th>\n",
       "      <td>CITY LON INV</td>\n",
       "      <td>GBX</td>\n",
       "      <td>453.50</td>\n",
       "      <td>0.00</td>\n",
       "      <td>-3.20</td>\n",
       "    </tr>\n",
       "    <tr>\n",
       "      <th>351</th>\n",
       "      <td>CITY LON.</td>\n",
       "      <td>GBX</td>\n",
       "      <td>431.00</td>\n",
       "      <td>0.00</td>\n",
       "      <td>0.92</td>\n",
       "    </tr>\n",
       "    <tr>\n",
       "      <th>352</th>\n",
       "      <td>CITY LON.GRP</td>\n",
       "      <td>GBX</td>\n",
       "      <td>127.50</td>\n",
       "      <td>0.00</td>\n",
       "      <td>0.00</td>\n",
       "    </tr>\n",
       "    <tr>\n",
       "      <th>353</th>\n",
       "      <td>CITY PUB GROUP.</td>\n",
       "      <td>GBX</td>\n",
       "      <td>197.50</td>\n",
       "      <td>-3.45</td>\n",
       "      <td>0.00</td>\n",
       "    </tr>\n",
       "    <tr>\n",
       "      <th>354</th>\n",
       "      <td>CIVITAS SOCIAL</td>\n",
       "      <td>GBX</td>\n",
       "      <td>98.50</td>\n",
       "      <td>0.00</td>\n",
       "      <td>0.00</td>\n",
       "    </tr>\n",
       "    <tr>\n",
       "      <th>355</th>\n",
       "      <td>CLARKSON</td>\n",
       "      <td>GBX</td>\n",
       "      <td>2.00</td>\n",
       "      <td>900.00</td>\n",
       "      <td>1.20</td>\n",
       "    </tr>\n",
       "    <tr>\n",
       "      <th>356</th>\n",
       "      <td>CLEAR LEISURE</td>\n",
       "      <td>GBX</td>\n",
       "      <td>0.23</td>\n",
       "      <td>-1.86</td>\n",
       "      <td>0.00</td>\n",
       "    </tr>\n",
       "    <tr>\n",
       "      <th>357</th>\n",
       "      <td>CLEARSTAR DI</td>\n",
       "      <td>GBX</td>\n",
       "      <td>56.50</td>\n",
       "      <td>-15.00</td>\n",
       "      <td>0.89</td>\n",
       "    </tr>\n",
       "    <tr>\n",
       "      <th>358</th>\n",
       "      <td>CLINIGEN</td>\n",
       "      <td>GBX</td>\n",
       "      <td>883.50</td>\n",
       "      <td>-1.40</td>\n",
       "      <td>-1.40</td>\n",
       "    </tr>\n",
       "    <tr>\n",
       "      <th>359</th>\n",
       "      <td>CLIPPER</td>\n",
       "      <td>GBX</td>\n",
       "      <td>282.25</td>\n",
       "      <td>10.25</td>\n",
       "      <td>3.77</td>\n",
       "    </tr>\n",
       "    <tr>\n",
       "      <th>360</th>\n",
       "      <td>CLONTARF</td>\n",
       "      <td>GBX</td>\n",
       "      <td>0.70</td>\n",
       "      <td>-3.45</td>\n",
       "      <td>-3.45</td>\n",
       "    </tr>\n",
       "    <tr>\n",
       "      <th>361</th>\n",
       "      <td>CLOSE BR.GRP.</td>\n",
       "      <td>GBX</td>\n",
       "      <td>1.00</td>\n",
       "      <td>436.00</td>\n",
       "      <td>0.03</td>\n",
       "    </tr>\n",
       "    <tr>\n",
       "      <th>362</th>\n",
       "      <td>CLOUDCALL GRP</td>\n",
       "      <td>GBX</td>\n",
       "      <td>94.50</td>\n",
       "      <td>-1.78</td>\n",
       "      <td>0.53</td>\n",
       "    </tr>\n",
       "    <tr>\n",
       "      <th>363</th>\n",
       "      <td>CLOUDCOCO</td>\n",
       "      <td>GBX</td>\n",
       "      <td>0.93</td>\n",
       "      <td>-26.00</td>\n",
       "      <td>0.00</td>\n",
       "    </tr>\n",
       "    <tr>\n",
       "      <th>364</th>\n",
       "      <td>CLS HDGS</td>\n",
       "      <td>GBX</td>\n",
       "      <td>277.00</td>\n",
       "      <td>-1.07</td>\n",
       "      <td>-1.07</td>\n",
       "    </tr>\n",
       "    <tr>\n",
       "      <th>365</th>\n",
       "      <td>CLUFF NATURAL</td>\n",
       "      <td>GBX</td>\n",
       "      <td>1.41</td>\n",
       "      <td>0.50</td>\n",
       "      <td>-1.05</td>\n",
       "    </tr>\n",
       "    <tr>\n",
       "      <th>366</th>\n",
       "      <td>CMC MKTS</td>\n",
       "      <td>GBX</td>\n",
       "      <td>162.40</td>\n",
       "      <td>0.73</td>\n",
       "      <td>0.73</td>\n",
       "    </tr>\n",
       "    <tr>\n",
       "      <th>367</th>\n",
       "      <td>CML MICROSYSTEM</td>\n",
       "      <td>GBX</td>\n",
       "      <td>370.00</td>\n",
       "      <td>0.00</td>\n",
       "      <td>0.00</td>\n",
       "    </tr>\n",
       "    <tr>\n",
       "      <th>368</th>\n",
       "      <td>COATS GROUP</td>\n",
       "      <td>GBX</td>\n",
       "      <td>73.45</td>\n",
       "      <td>-3.00</td>\n",
       "      <td>1.10</td>\n",
       "    </tr>\n",
       "    <tr>\n",
       "      <th>369</th>\n",
       "      <td>COBRA RESOURCE.</td>\n",
       "      <td>GBX</td>\n",
       "      <td>1.80</td>\n",
       "      <td>20.00</td>\n",
       "      <td>20.00</td>\n",
       "    </tr>\n",
       "    <tr>\n",
       "      <th>370</th>\n",
       "      <td>COCA-COLA EURO.</td>\n",
       "      <td>EUR</td>\n",
       "      <td>51.05</td>\n",
       "      <td>0.01</td>\n",
       "      <td>0.59</td>\n",
       "    </tr>\n",
       "    <tr>\n",
       "      <th>371</th>\n",
       "      <td>COCACOLA HBC AG</td>\n",
       "      <td>GBX</td>\n",
       "      <td>2.00</td>\n",
       "      <td>834.00</td>\n",
       "      <td>0.63</td>\n",
       "    </tr>\n",
       "    <tr>\n",
       "      <th>372</th>\n",
       "      <td>CODEMASTERS GR.</td>\n",
       "      <td>GBX</td>\n",
       "      <td>308.50</td>\n",
       "      <td>-1.20</td>\n",
       "      <td>0.00</td>\n",
       "    </tr>\n",
       "    <tr>\n",
       "      <th>373</th>\n",
       "      <td>COHORT</td>\n",
       "      <td>GBX</td>\n",
       "      <td>677.00</td>\n",
       "      <td>0.59</td>\n",
       "      <td>0.59</td>\n",
       "    </tr>\n",
       "    <tr>\n",
       "      <th>374</th>\n",
       "      <td>COLEFAX GRP.</td>\n",
       "      <td>GBX</td>\n",
       "      <td>430.00</td>\n",
       "      <td>0.00</td>\n",
       "      <td>0.00</td>\n",
       "    </tr>\n",
       "    <tr>\n",
       "      <th>375</th>\n",
       "      <td>COLLAGEN SOL</td>\n",
       "      <td>GBX</td>\n",
       "      <td>2.85</td>\n",
       "      <td>0.80</td>\n",
       "      <td>3.64</td>\n",
       "    </tr>\n",
       "    <tr>\n",
       "      <th>376</th>\n",
       "      <td>COLUMBUS ENERGY</td>\n",
       "      <td>GBX</td>\n",
       "      <td>2.35</td>\n",
       "      <td>0.00</td>\n",
       "      <td>0.00</td>\n",
       "    </tr>\n",
       "    <tr>\n",
       "      <th>377</th>\n",
       "      <td>COMPASS GROUP</td>\n",
       "      <td>GBX</td>\n",
       "      <td>1.00</td>\n",
       "      <td>945.00</td>\n",
       "      <td>0.30</td>\n",
       "    </tr>\n",
       "    <tr>\n",
       "      <th>378</th>\n",
       "      <td>COMPTOIR GRP</td>\n",
       "      <td>USD</td>\n",
       "      <td>7.75</td>\n",
       "      <td>0.03</td>\n",
       "      <td>0.00</td>\n",
       "    </tr>\n",
       "  </tbody>\n",
       "</table>\n",
       "<p>379 rows × 5 columns</p>\n",
       "</div>"
      ],
      "text/plain": [
       "              nombre moneda  precio  cantidad  porcentaje\n",
       "0                1PM    GBX   27.25      0.25        0.91\n",
       "1           1SPATIAL    GBX   30.00      0.47        0.00\n",
       "2            3I GRP.    GBX    1.00    163.00        0.00\n",
       "3      4D PHARMA PLC    GBX   61.25     -5.50      -11.55\n",
       "4      4IMPRINT GRP.    GBX    3.00    350.00        0.30\n",
       "5           600 GRP.    GBX   14.10     -8.00        0.00\n",
       "6           7DIGITAL    GBX    0.41      0.00        0.00\n",
       "7          88 ENERGY    GBX    1.40    -10.00        5.66\n",
       "8          888 HLDGS    GBX  131.00      0.69       -1.65\n",
       "9    A.B.ENGINEERING    GBX   15.00      0.00        0.00\n",
       "10          A.B.FOOD    GBX    2.00    611.00        0.00\n",
       "11            AA PLC    GBX   43.28      0.07       -1.59\n",
       "12       AB DYNAMICS    GBX    1.00    845.00       -2.32\n",
       "13      AB NEW INDIA    GBX  483.00     -2.20        0.62\n",
       "14             ABCAM    GBX    1.00    300.00        0.84\n",
       "15      ABDN.ASN INC    GBX  209.00      0.00        0.95\n",
       "16     ABDN.NEW THAI    GBX  507.50    -62.00        0.49\n",
       "17       ABDN.NW.DWN    GBX  257.00      0.01       -1.15\n",
       "18     ABERDEEN DI&G    GBX  110.50      0.70        0.45\n",
       "19    ABERDEEN JAPAN    GBX  615.00      0.01        0.81\n",
       "20     ARRICANO REAL    USD    0.45      0.00        0.00\n",
       "21      ARROW GLOBAL    GBX  299.00      5.00        1.70\n",
       "22     ARTEMIS ALPHA    GBX  333.00      0.01       -2.35\n",
       "23       ARTEMIS VCT    GBX   35.60     -8.00        0.00\n",
       "24           ASA INT    GBX  265.50      0.69        0.19\n",
       "25       ASCENT RES.    GBX    0.06      0.00        0.00\n",
       "26         ASCENTIAL    GBX  361.40      0.50       -1.42\n",
       "27      ASHLEY HOUSE    GBX    2.30    -62.01        0.00\n",
       "28     ASHLEY(LAURA)    GBX    1.65      0.00      -18.62\n",
       "29           ASHMORE    GBX  562.00     -5.20       -1.40\n",
       "..               ...    ...     ...       ...         ...\n",
       "349        CIRCASSIA    GBX   27.80      4.51        4.51\n",
       "350     CITY LON INV    GBX  453.50      0.00       -3.20\n",
       "351        CITY LON.    GBX  431.00      0.00        0.92\n",
       "352     CITY LON.GRP    GBX  127.50      0.00        0.00\n",
       "353  CITY PUB GROUP.    GBX  197.50     -3.45        0.00\n",
       "354   CIVITAS SOCIAL    GBX   98.50      0.00        0.00\n",
       "355         CLARKSON    GBX    2.00    900.00        1.20\n",
       "356    CLEAR LEISURE    GBX    0.23     -1.86        0.00\n",
       "357     CLEARSTAR DI    GBX   56.50    -15.00        0.89\n",
       "358         CLINIGEN    GBX  883.50     -1.40       -1.40\n",
       "359          CLIPPER    GBX  282.25     10.25        3.77\n",
       "360         CLONTARF    GBX    0.70     -3.45       -3.45\n",
       "361    CLOSE BR.GRP.    GBX    1.00    436.00        0.03\n",
       "362    CLOUDCALL GRP    GBX   94.50     -1.78        0.53\n",
       "363        CLOUDCOCO    GBX    0.93    -26.00        0.00\n",
       "364         CLS HDGS    GBX  277.00     -1.07       -1.07\n",
       "365    CLUFF NATURAL    GBX    1.41      0.50       -1.05\n",
       "366         CMC MKTS    GBX  162.40      0.73        0.73\n",
       "367  CML MICROSYSTEM    GBX  370.00      0.00        0.00\n",
       "368      COATS GROUP    GBX   73.45     -3.00        1.10\n",
       "369  COBRA RESOURCE.    GBX    1.80     20.00       20.00\n",
       "370  COCA-COLA EURO.    EUR   51.05      0.01        0.59\n",
       "371  COCACOLA HBC AG    GBX    2.00    834.00        0.63\n",
       "372  CODEMASTERS GR.    GBX  308.50     -1.20        0.00\n",
       "373           COHORT    GBX  677.00      0.59        0.59\n",
       "374     COLEFAX GRP.    GBX  430.00      0.00        0.00\n",
       "375     COLLAGEN SOL    GBX    2.85      0.80        3.64\n",
       "376  COLUMBUS ENERGY    GBX    2.35      0.00        0.00\n",
       "377    COMPASS GROUP    GBX    1.00    945.00        0.30\n",
       "378     COMPTOIR GRP    USD    7.75      0.03        0.00\n",
       "\n",
       "[379 rows x 5 columns]"
      ]
     },
     "execution_count": 3,
     "metadata": {},
     "output_type": "execute_result"
    }
   ],
   "source": [
    "df = pd.read_excel(path)\n",
    "df"
   ]
  },
  {
   "cell_type": "code",
   "execution_count": 15,
   "metadata": {},
   "outputs": [
    {
     "data": {
      "text/plain": [
       "<matplotlib.axes._subplots.AxesSubplot at 0x23e73440320>"
      ]
     },
     "execution_count": 15,
     "metadata": {},
     "output_type": "execute_result"
    },
    {
     "data": {
      "image/png": "[encoded data removed]",
      "text/plain": [
       "<Figure size 432x288 with 1 Axes>"
      ]
     },
     "metadata": {
      "needs_background": "light"
     },
     "output_type": "display_data"
    }
   ],
   "source": [
    "df.groupby('moneda').mean()[\"porcentaje\"].plot(kind='bar',stacked=True,title=\"Promedio del porcentaje ganado por moneda\")"
   ]
  },
  {
   "cell_type": "code",
   "execution_count": 18,
   "metadata": {},
   "outputs": [
    {
     "data": {
      "text/plain": [
       "<matplotlib.axes._subplots.AxesSubplot at 0x23e7350c080>"
      ]
     },
     "execution_count": 18,
     "metadata": {},
     "output_type": "execute_result"
    },
    {
     "data": {
      "image/png": "[encoded data removed]",
      "text/plain": [
       "<Figure size 432x288 with 1 Axes>"
      ]
     },
     "metadata": {
      "needs_background": "light"
     },
     "output_type": "display_data"
    }
   ],
   "source": [
    "pv_primeros= df.filter(items = [\"nombre\", \"precio\"]).sort_values('precio', ascending=False).head(10)\n",
    "pv_primeros.groupby('nombre').sum()[\"precio\"].plot(kind='line',stacked=True, title=\"Las 10 empresas que generan mas ganancias\")"
   ]
  },
  {
   "cell_type": "code",
   "execution_count": 22,
   "metadata": {
    "scrolled": true
   },
   "outputs": [
    {
     "data": {
      "text/plain": [
       "<matplotlib.axes._subplots.AxesSubplot at 0x23e71dd7c88>"
      ]
     },
     "execution_count": 22,
     "metadata": {},
     "output_type": "execute_result"
    },
    {
     "data": {
      "image/png": "[encoded data removed]",
      "text/plain": [
       "<Figure size 432x288 with 1 Axes>"
      ]
     },
     "metadata": {
      "needs_background": "light"
     },
     "output_type": "display_data"
    }
   ],
   "source": [
    "df.head(50).groupby('nombre').mean()[\"cantidad\"].plot(kind='bar',stacked=True,title=\"Promedio de la cantidad de generan las 50 primeras empresas\")\n"
   ]
  },
  {
   "cell_type": "code",
   "execution_count": 23,
   "metadata": {},
   "outputs": [
    {
     "data": {
      "text/plain": [
       "<matplotlib.axes._subplots.AxesSubplot at 0x23e7385bef0>"
      ]
     },
     "execution_count": 23,
     "metadata": {},
     "output_type": "execute_result"
    },
    {
     "data": {
      "image/png": "[encoded data removed]",
      "text/plain": [
       "<Figure size 432x288 with 1 Axes>"
      ]
     },
     "metadata": {
      "needs_background": "light"
     },
     "output_type": "display_data"
    }
   ],
   "source": [
    "moneda = df.groupby('cantidad')['porcentaje'].mean()\n",
    "moneda.plot(kind='line', title=\"Porcentaje de ganancia de acuerdo a la cantidad\")\n"
   ]
  },
  {
   "cell_type": "code",
   "execution_count": 24,
   "metadata": {},
   "outputs": [
    {
     "data": {
      "text/plain": [
       "moneda\n",
       "EUR     26.060000\n",
       "GBX    149.180870\n",
       "USD    164.041491\n",
       "Name: precio, dtype: float64"
      ]
     },
     "execution_count": 24,
     "metadata": {},
     "output_type": "execute_result"
    }
   ],
   "source": [
    "tabla_general = df.groupby('moneda').mean()[\"precio\"]\n",
    "tabla_general\n"
   ]
  },
  {
   "cell_type": "code",
   "execution_count": 25,
   "metadata": {},
   "outputs": [
    {
     "data": {
      "text/plain": [
       "([<matplotlib.patches.Wedge at 0x23e738ecbe0>,\n",
       "  <matplotlib.patches.Wedge at 0x23e738f6320>,\n",
       "  <matplotlib.patches.Wedge at 0x23e738f6a58>],\n",
       " [Text(1.06813,0.262865,'EUR'),\n",
       "  Text(-0.31787,1.05307,'GBX'),\n",
       "  Text(0.05701,-1.09852,'USD')],\n",
       " [Text(0.582616,0.143381,'7.68 %'),\n",
       "  Text(-0.173384,0.574402,'43.97 %'),\n",
       "  Text(0.0310964,-0.599194,'48.35 %')])"
      ]
     },
     "execution_count": 25,
     "metadata": {},
     "output_type": "execute_result"
    },
    {
     "data": {
      "image/png": "[encoded data removed]",
      "text/plain": [
       "<Figure size 432x288 with 1 Axes>"
      ]
     },
     "metadata": {},
     "output_type": "display_data"
    }
   ],
   "source": [
    "plt.pie(tabla_general, labels=[\"EUR\", \"GBX\", \"USD\"], autopct=\"%0.2f %%\")"
   ]
  },
  {
   "cell_type": "code",
   "execution_count": 30,
   "metadata": {},
   "outputs": [
    {
     "data": {
      "text/plain": [
       "<matplotlib.axes._subplots.AxesSubplot at 0x23e73e5feb8>"
      ]
     },
     "execution_count": 30,
     "metadata": {},
     "output_type": "execute_result"
    },
    {
     "data": {
      "image/png": "[encoded data removed]",
      "text/plain": [
       "<Figure size 432x288 with 1 Axes>"
      ]
     },
     "metadata": {
      "needs_background": "light"
     },
     "output_type": "display_data"
    }
   ],
   "source": [
    "ultimos_datos = df.tail(100)\n",
    "ultimos_datos.plot(kind=\"line\", title=\"Muestra del precio comparado con la cantidad y el porcentaje\")"
   ]
  },
  {
   "cell_type": "code",
   "execution_count": 141,
   "metadata": {},
   "outputs": [
    {
     "data": {
      "text/html": [
       "<div>\n",
       "<style scoped>\n",
       "    .dataframe tbody tr th:only-of-type {\n",
       "        vertical-align: middle;\n",
       "    }\n",
       "\n",
       "    .dataframe tbody tr th {\n",
       "        vertical-align: top;\n",
       "    }\n",
       "\n",
       "    .dataframe thead th {\n",
       "        text-align: right;\n",
       "    }\n",
       "</style>\n",
       "<table border=\"1\" class=\"dataframe\">\n",
       "  <thead>\n",
       "    <tr style=\"text-align: right;\">\n",
       "      <th></th>\n",
       "      <th>nombre</th>\n",
       "      <th>precio</th>\n",
       "    </tr>\n",
       "  </thead>\n",
       "  <tbody>\n",
       "    <tr>\n",
       "      <th>241</th>\n",
       "      <td>BIOTECH GWTH</td>\n",
       "      <td>990.0</td>\n",
       "    </tr>\n",
       "    <tr>\n",
       "      <th>175</th>\n",
       "      <td>BAILLIE GEU</td>\n",
       "      <td>940.0</td>\n",
       "    </tr>\n",
       "    <tr>\n",
       "      <th>237</th>\n",
       "      <td>BRITVIC</td>\n",
       "      <td>918.0</td>\n",
       "    </tr>\n",
       "    <tr>\n",
       "      <th>260</th>\n",
       "      <td>BRUNNER INV.TST</td>\n",
       "      <td>910.0</td>\n",
       "    </tr>\n",
       "    <tr>\n",
       "      <th>204</th>\n",
       "      <td>BARING EMERGING</td>\n",
       "      <td>908.0</td>\n",
       "    </tr>\n",
       "    <tr>\n",
       "      <th>358</th>\n",
       "      <td>CLINIGEN</td>\n",
       "      <td>883.5</td>\n",
       "    </tr>\n",
       "    <tr>\n",
       "      <th>292</th>\n",
       "      <td>BODYCOTE</td>\n",
       "      <td>872.0</td>\n",
       "    </tr>\n",
       "    <tr>\n",
       "      <th>210</th>\n",
       "      <td>BARRATT DEVEL.</td>\n",
       "      <td>870.8</td>\n",
       "    </tr>\n",
       "    <tr>\n",
       "      <th>127</th>\n",
       "      <td>ALLIANCE TRUST</td>\n",
       "      <td>864.0</td>\n",
       "    </tr>\n",
       "    <tr>\n",
       "      <th>157</th>\n",
       "      <td>ANTOFAGASTA</td>\n",
       "      <td>848.6</td>\n",
       "    </tr>\n",
       "  </tbody>\n",
       "</table>\n",
       "</div>"
      ],
      "text/plain": [
       "              nombre  precio\n",
       "241     BIOTECH GWTH   990.0\n",
       "175      BAILLIE GEU   940.0\n",
       "237          BRITVIC   918.0\n",
       "260  BRUNNER INV.TST   910.0\n",
       "204  BARING EMERGING   908.0\n",
       "358         CLINIGEN   883.5\n",
       "292         BODYCOTE   872.0\n",
       "210   BARRATT DEVEL.   870.8\n",
       "127   ALLIANCE TRUST   864.0\n",
       "157      ANTOFAGASTA   848.6"
      ]
     },
     "execution_count": 141,
     "metadata": {},
     "output_type": "execute_result"
    }
   ],
   "source": [
    "pv_primeros= df.filter(items = [\"nombre\", \"precio\"]).sort_values('precio', ascending=False).head(10)\n",
    "pv_primeros"
   ]
  },
  {
   "cell_type": "code",
   "execution_count": 143,
   "metadata": {},
   "outputs": [
    {
     "data": {
      "text/plain": [
       "<matplotlib.axes._subplots.AxesSubplot at 0x29b021d2588>"
      ]
     },
     "execution_count": 143,
     "metadata": {},
     "output_type": "execute_result"
    },
    {
     "data": {
      "image/png": "[encoded data removed]",
      "text/plain": [
       "<Figure size 432x288 with 1 Axes>"
      ]
     },
     "metadata": {
      "needs_background": "light"
     },
     "output_type": "display_data"
    }
   ],
   "source": [
    "pv_primeros.groupby('nombre').sum()[\"precio\"].plot(kind='bar',stacked=True, title=\"Las 10 empresas que generan mas ganancias\")"
   ]
  },
  {
   "cell_type": "code",
   "execution_count": 145,
   "metadata": {},
   "outputs": [
    {
     "data": {
      "text/html": [
       "<div>\n",
       "<style scoped>\n",
       "    .dataframe tbody tr th:only-of-type {\n",
       "        vertical-align: middle;\n",
       "    }\n",
       "\n",
       "    .dataframe tbody tr th {\n",
       "        vertical-align: top;\n",
       "    }\n",
       "\n",
       "    .dataframe thead th {\n",
       "        text-align: right;\n",
       "    }\n",
       "</style>\n",
       "<table border=\"1\" class=\"dataframe\">\n",
       "  <thead>\n",
       "    <tr style=\"text-align: right;\">\n",
       "      <th></th>\n",
       "      <th>nombre</th>\n",
       "      <th>porcentaje</th>\n",
       "    </tr>\n",
       "  </thead>\n",
       "  <tbody>\n",
       "    <tr>\n",
       "      <th>39</th>\n",
       "      <td>ASTRAZENECA</td>\n",
       "      <td>144.00</td>\n",
       "    </tr>\n",
       "    <tr>\n",
       "      <th>154</th>\n",
       "      <td>ANGUS ENERGY</td>\n",
       "      <td>32.00</td>\n",
       "    </tr>\n",
       "    <tr>\n",
       "      <th>369</th>\n",
       "      <td>COBRA RESOURCE.</td>\n",
       "      <td>20.00</td>\n",
       "    </tr>\n",
       "    <tr>\n",
       "      <th>309</th>\n",
       "      <td>CARIBBEAN INV</td>\n",
       "      <td>13.70</td>\n",
       "    </tr>\n",
       "    <tr>\n",
       "      <th>265</th>\n",
       "      <td>BYOTROL</td>\n",
       "      <td>10.34</td>\n",
       "    </tr>\n",
       "    <tr>\n",
       "      <th>78</th>\n",
       "      <td>ARMADALE CAP.</td>\n",
       "      <td>9.43</td>\n",
       "    </tr>\n",
       "    <tr>\n",
       "      <th>139</th>\n",
       "      <td>AMIGO</td>\n",
       "      <td>8.40</td>\n",
       "    </tr>\n",
       "    <tr>\n",
       "      <th>253</th>\n",
       "      <td>BLAN TECH GRP</td>\n",
       "      <td>7.16</td>\n",
       "    </tr>\n",
       "    <tr>\n",
       "      <th>325</th>\n",
       "      <td>CENKOS SEC</td>\n",
       "      <td>6.56</td>\n",
       "    </tr>\n",
       "    <tr>\n",
       "      <th>7</th>\n",
       "      <td>88 ENERGY</td>\n",
       "      <td>5.66</td>\n",
       "    </tr>\n",
       "  </tbody>\n",
       "</table>\n",
       "</div>"
      ],
      "text/plain": [
       "              nombre  porcentaje\n",
       "39       ASTRAZENECA      144.00\n",
       "154     ANGUS ENERGY       32.00\n",
       "369  COBRA RESOURCE.       20.00\n",
       "309    CARIBBEAN INV       13.70\n",
       "265          BYOTROL       10.34\n",
       "78     ARMADALE CAP.        9.43\n",
       "139            AMIGO        8.40\n",
       "253    BLAN TECH GRP        7.16\n",
       "325       CENKOS SEC        6.56\n",
       "7          88 ENERGY        5.66"
      ]
     },
     "execution_count": 145,
     "metadata": {},
     "output_type": "execute_result"
    }
   ],
   "source": [
    "pv_porcentaje= df.filter(items = [\"nombre\", \"porcentaje\"]).sort_values('porcentaje', ascending=False).head(10)\n",
    "pv_porcentaje"
   ]
  },
  {
   "cell_type": "code",
   "execution_count": 147,
   "metadata": {},
   "outputs": [
    {
     "data": {
      "text/plain": [
       "<matplotlib.axes._subplots.AxesSubplot at 0x29b0205e208>"
      ]
     },
     "execution_count": 147,
     "metadata": {},
     "output_type": "execute_result"
    },
    {
     "data": {
      "image/png": "[encoded data removed]",
      "text/plain": [
       "<Figure size 432x288 with 1 Axes>"
      ]
     },
     "metadata": {
      "needs_background": "light"
     },
     "output_type": "display_data"
    }
   ],
   "source": [
    "pv_porcentaje.groupby('nombre').sum()[\"porcentaje\"].plot(kind='bar',stacked=True, title=\"Las 10 empresas que tienen un mejor porcentaje de crecimiento en la bolsa de valores\")"
   ]
  },
  {
   "cell_type": "code",
   "execution_count": 151,
   "metadata": {},
   "outputs": [
    {
     "data": {
      "image/png": "[encoded data removed]",
      "text/plain": [
       "<Figure size 432x288 with 1 Axes>"
      ]
     },
     "metadata": {
      "needs_background": "light"
     },
     "output_type": "display_data"
    }
   ],
   "source": [
    "categories_vs_subs = df.loc[:, ['moneda', 'precio']]\n",
    "count = categories_vs_subs.groupby(['moneda']).count()\n",
    "objects = count['precio'].keys()\n",
    "y_pos = np.arange(len(objects))\n",
    "performance = count['precio'].values\n",
    " \n",
    "plt.barh(y_pos, performance, align='center', alpha=0.5)\n",
    "plt.yticks(y_pos, objects)\n",
    "plt.xlabel('cantidad')\n",
    "plt.title('mejores empresas con crecimiento')\n",
    " \n",
    "plt.show()"
   ]
  },
  {
   "cell_type": "code",
   "execution_count": 153,
   "metadata": {},
   "outputs": [
    {
     "data": {
      "text/html": [
       "<div>\n",
       "<style scoped>\n",
       "    .dataframe tbody tr th:only-of-type {\n",
       "        vertical-align: middle;\n",
       "    }\n",
       "\n",
       "    .dataframe tbody tr th {\n",
       "        vertical-align: top;\n",
       "    }\n",
       "\n",
       "    .dataframe thead th {\n",
       "        text-align: right;\n",
       "    }\n",
       "</style>\n",
       "<table border=\"1\" class=\"dataframe\">\n",
       "  <thead>\n",
       "    <tr style=\"text-align: right;\">\n",
       "      <th></th>\n",
       "      <th>nombre</th>\n",
       "      <th>precio</th>\n",
       "    </tr>\n",
       "  </thead>\n",
       "  <tbody>\n",
       "    <tr>\n",
       "      <th>124</th>\n",
       "      <td>ALL ACTIVE</td>\n",
       "      <td>0.18</td>\n",
       "    </tr>\n",
       "    <tr>\n",
       "      <th>189</th>\n",
       "      <td>BEZANT RES</td>\n",
       "      <td>0.14</td>\n",
       "    </tr>\n",
       "    <tr>\n",
       "      <th>334</th>\n",
       "      <td>CHALLENGER AQ</td>\n",
       "      <td>0.14</td>\n",
       "    </tr>\n",
       "    <tr>\n",
       "      <th>279</th>\n",
       "      <td>BLUE STAR</td>\n",
       "      <td>0.13</td>\n",
       "    </tr>\n",
       "    <tr>\n",
       "      <th>206</th>\n",
       "      <td>BARON OIL</td>\n",
       "      <td>0.12</td>\n",
       "    </tr>\n",
       "    <tr>\n",
       "      <th>116</th>\n",
       "      <td>ALBA MIN</td>\n",
       "      <td>0.12</td>\n",
       "    </tr>\n",
       "    <tr>\n",
       "      <th>299</th>\n",
       "      <td>CANADIAN OVER</td>\n",
       "      <td>0.10</td>\n",
       "    </tr>\n",
       "    <tr>\n",
       "      <th>44</th>\n",
       "      <td>ATTIS OIL &amp; GAS</td>\n",
       "      <td>0.07</td>\n",
       "    </tr>\n",
       "    <tr>\n",
       "      <th>25</th>\n",
       "      <td>ASCENT RES.</td>\n",
       "      <td>0.06</td>\n",
       "    </tr>\n",
       "    <tr>\n",
       "      <th>219</th>\n",
       "      <td>BOULD OPP</td>\n",
       "      <td>0.02</td>\n",
       "    </tr>\n",
       "  </tbody>\n",
       "</table>\n",
       "</div>"
      ],
      "text/plain": [
       "              nombre  precio\n",
       "124       ALL ACTIVE    0.18\n",
       "189       BEZANT RES    0.14\n",
       "334    CHALLENGER AQ    0.14\n",
       "279        BLUE STAR    0.13\n",
       "206        BARON OIL    0.12\n",
       "116         ALBA MIN    0.12\n",
       "299    CANADIAN OVER    0.10\n",
       "44   ATTIS OIL & GAS    0.07\n",
       "25       ASCENT RES.    0.06\n",
       "219        BOULD OPP    0.02"
      ]
     },
     "execution_count": 153,
     "metadata": {},
     "output_type": "execute_result"
    }
   ],
   "source": [
    "pv_peores= df.filter(items = [\"nombre\", \"precio\"]).sort_values('precio', ascending=False).tail(10)\n",
    "pv_peores"
   ]
  },
  {
   "cell_type": "code",
   "execution_count": 154,
   "metadata": {},
   "outputs": [
    {
     "data": {
      "text/plain": [
       "<matplotlib.axes._subplots.AxesSubplot at 0x29b05398ef0>"
      ]
     },
     "execution_count": 154,
     "metadata": {},
     "output_type": "execute_result"
    },
    {
     "data": {
      "image/png": "[encoded data removed]",
      "text/plain": [
       "<Figure size 432x288 with 1 Axes>"
      ]
     },
     "metadata": {
      "needs_background": "light"
     },
     "output_type": "display_data"
    }
   ],
   "source": [
    "pv_peores.groupby('nombre').sum()[\"precio\"].plot(kind='bar',stacked=True, title=\"Las 10 empresas que generan menos ganancias en Inglaterra\")"
   ]
  },
  {
   "cell_type": "code",
   "execution_count": 175,
   "metadata": {},
   "outputs": [
    {
     "data": {
      "text/plain": [
       "Text(0.5,0.98,'Diagrama de dispersión del porcentaje dependiendo del precio')"
      ]
     },
     "execution_count": 175,
     "metadata": {},
     "output_type": "execute_result"
    },
    {
     "data": {
      "image/png": "[encoded data removed]",
      "text/plain": [
       "<Figure size 432x288 with 1 Axes>"
      ]
     },
     "metadata": {
      "needs_background": "light"
     },
     "output_type": "display_data"
    }
   ],
   "source": [
    "fig, ax1 = plt.subplots()\n",
    "datos = pd.read_excel(\"londonStockExchange.xlsx\")\n",
    "my_plot = datos.plot(\"porcentaje\", \"precio\", kind=\"scatter\",ax=ax1)\n",
    "\n",
    "#ax1.set_xlabel(\"precio\")\n",
    "ax1.tick_params(labelsize=10, pad=4)\n",
    "fig.suptitle('Diagrama de dispersión del porcentaje dependiendo del precio', fontsize=10)"
   ]
  },
  {
   "cell_type": "code",
   "execution_count": null,
   "metadata": {},
   "outputs": [],
   "source": []
  },
  {
   "cell_type": "code",
   "execution_count": null,
   "metadata": {},
   "outputs": [],
   "source": []
  },
  {
   "cell_type": "code",
   "execution_count": null,
   "metadata": {},
   "outputs": [],
   "source": []
  }
 ],
 "metadata": {
  "kernelspec": {
   "display_name": "Python 3",
   "language": "python",
   "name": "python3"
  },
  "language_info": {
   "codemirror_mode": {
    "name": "ipython",
    "version": 3
   },
   "file_extension": ".py",
   "mimetype": "text/x-python",
   "name": "python",
   "nbconvert_exporter": "python",
   "pygments_lexer": "ipython3",
   "version": "3.7.0"
  }
 },
 "nbformat": 4,
 "nbformat_minor": 2
}
